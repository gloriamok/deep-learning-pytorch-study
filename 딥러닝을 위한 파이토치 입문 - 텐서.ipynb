{
 "cells": [
  {
   "cell_type": "markdown",
   "metadata": {},
   "source": [
    "## 딥러닝을 위한 파이토치 입문 - 텐서\n",
    "Youtube Link: https://youtu.be/6SF_qAd99Yg"
   ]
  },
  {
   "cell_type": "markdown",
   "metadata": {},
   "source": [
    "#### Pytorch vs. Tensorflow\n",
    "\n",
    "- 둘 다 GPU와 함께 딥러닝을 이용할 수 있게 해주는 프레임워크\n",
    "\n",
    "- Pytorch는 내부적인 CUDA API를 통해 GPU연산을 제공\n",
    "\n",
    "- 최근 논문에는 Pytorch가 더 많이 사용되고 있음\n",
    "\n",
    "- 심지어 Tensorflow를 만든 구글 논문에서도 Pytorch를 쓰고 있음\n",
    "\n",
    "- Pytorch는 직관적으로 이해하기 편함"
   ]
  },
  {
   "cell_type": "markdown",
   "metadata": {},
   "source": [
    "### 1강. Tensor\n",
    "- Pytorch의 기본 단위/라이브러리\n",
    "- torch tensor는 numpy array와 사용법이 유사함"
   ]
  },
  {
   "cell_type": "code",
   "execution_count": 1,
   "metadata": {},
   "outputs": [],
   "source": [
    "# Torch: The torch package contains data structures for multi-dimensional tensors\n",
    "#        and matehmatical operations over these are defined."
   ]
  },
  {
   "cell_type": "code",
   "execution_count": 2,
   "metadata": {},
   "outputs": [],
   "source": [
    "import torch\n",
    "import numpy as np"
   ]
  },
  {
   "cell_type": "markdown",
   "metadata": {},
   "source": [
    "empty(size) 함수로 빈 텐서를 생성"
   ]
  },
  {
   "cell_type": "code",
   "execution_count": 3,
   "metadata": {},
   "outputs": [
    {
     "name": "stdout",
     "output_type": "stream",
     "text": [
      "tensor([[9.2755e-39, 1.0561e-38, 7.0715e-39, 6.8878e-39],\n",
      "        [8.9082e-39, 8.9082e-39, 1.0194e-38, 9.1837e-39],\n",
      "        [4.6837e-39, 9.9184e-39, 9.0000e-39, 1.0561e-38],\n",
      "        [1.0653e-38, 4.1327e-39, 8.9082e-39, 9.8265e-39],\n",
      "        [9.4592e-39, 1.0561e-38, 1.0286e-38, 1.0102e-38]])\n"
     ]
    }
   ],
   "source": [
    "x = torch.empty(5,4)\n",
    "print(x)"
   ]
  },
  {
   "cell_type": "code",
   "execution_count": 4,
   "metadata": {},
   "outputs": [
    {
     "data": {
      "text/plain": [
       "tensor([[1., 1., 1.],\n",
       "        [1., 1., 1.],\n",
       "        [1., 1., 1.]])"
      ]
     },
     "execution_count": 4,
     "metadata": {},
     "output_type": "execute_result"
    }
   ],
   "source": [
    "# 1 행렬\n",
    "torch.ones(3,3)"
   ]
  },
  {
   "cell_type": "code",
   "execution_count": 5,
   "metadata": {},
   "outputs": [
    {
     "data": {
      "text/plain": [
       "tensor([0., 0.])"
      ]
     },
     "execution_count": 5,
     "metadata": {},
     "output_type": "execute_result"
    }
   ],
   "source": [
    "# 0 행렬\n",
    "torch.zeros(2)"
   ]
  },
  {
   "cell_type": "code",
   "execution_count": 6,
   "metadata": {},
   "outputs": [
    {
     "data": {
      "text/plain": [
       "tensor([[0.0177, 0.1933, 0.7950, 0.4988, 0.5507, 0.6176],\n",
       "        [0.6692, 0.7715, 0.5021, 0.5853, 0.1138, 0.2583],\n",
       "        [0.9772, 0.1763, 0.1570, 0.3077, 0.2413, 0.8652],\n",
       "        [0.3559, 0.5762, 0.7934, 0.2505, 0.5976, 0.4725],\n",
       "        [0.5011, 0.9839, 0.7965, 0.7170, 0.8160, 0.0257]])"
      ]
     },
     "execution_count": 6,
     "metadata": {},
     "output_type": "execute_result"
    }
   ],
   "source": [
    "# random 함수\n",
    "torch.rand(5,6)"
   ]
  },
  {
   "cell_type": "markdown",
   "metadata": {},
   "source": [
    "list나 array가 주어져 있을 경우 tensor로 변환"
   ]
  },
  {
   "cell_type": "code",
   "execution_count": 7,
   "metadata": {},
   "outputs": [
    {
     "data": {
      "text/plain": [
       "tensor([13,  4])"
      ]
     },
     "execution_count": 7,
     "metadata": {},
     "output_type": "execute_result"
    }
   ],
   "source": [
    "l = [13,4]\n",
    "r = np.array([4,56,7])\n",
    "\n",
    "torch.tensor(l)"
   ]
  },
  {
   "cell_type": "code",
   "execution_count": 8,
   "metadata": {},
   "outputs": [
    {
     "data": {
      "text/plain": [
       "tensor([ 4, 56,  7], dtype=torch.int32)"
      ]
     },
     "execution_count": 8,
     "metadata": {},
     "output_type": "execute_result"
    }
   ],
   "source": [
    "torch.tensor(r)"
   ]
  },
  {
   "cell_type": "markdown",
   "metadata": {},
   "source": [
    "size 함수로 사이즈 확인"
   ]
  },
  {
   "cell_type": "code",
   "execution_count": 9,
   "metadata": {},
   "outputs": [
    {
     "data": {
      "text/plain": [
       "torch.Size([3])"
      ]
     },
     "execution_count": 9,
     "metadata": {},
     "output_type": "execute_result"
    }
   ],
   "source": [
    "torch.tensor(r).size()"
   ]
  },
  {
   "cell_type": "code",
   "execution_count": 10,
   "metadata": {},
   "outputs": [
    {
     "data": {
      "text/plain": [
       "torch.Size([5, 4])"
      ]
     },
     "execution_count": 10,
     "metadata": {},
     "output_type": "execute_result"
    }
   ],
   "source": [
    "x.size()"
   ]
  },
  {
   "cell_type": "markdown",
   "metadata": {},
   "source": [
    "type 함수로 타입 확인"
   ]
  },
  {
   "cell_type": "code",
   "execution_count": 11,
   "metadata": {},
   "outputs": [
    {
     "data": {
      "text/plain": [
       "torch.Tensor"
      ]
     },
     "execution_count": 11,
     "metadata": {},
     "output_type": "execute_result"
    }
   ],
   "source": [
    "type(x)"
   ]
  },
  {
   "cell_type": "code",
   "execution_count": 12,
   "metadata": {},
   "outputs": [
    {
     "name": "stdout",
     "output_type": "stream",
     "text": [
      "tensor([[0.1602, 0.3786],\n",
      "        [0.7703, 0.8538]])\n",
      "tensor([[0.6397, 0.1728],\n",
      "        [0.8106, 0.2421]])\n"
     ]
    }
   ],
   "source": [
    "x = torch.rand(2,2)\n",
    "y = torch.rand(2,2)\n",
    "print(x)\n",
    "print(y)"
   ]
  },
  {
   "cell_type": "markdown",
   "metadata": {},
   "source": [
    "텐서 간의 연산 3가지 방법"
   ]
  },
  {
   "cell_type": "code",
   "execution_count": 13,
   "metadata": {},
   "outputs": [
    {
     "name": "stdout",
     "output_type": "stream",
     "text": [
      "tensor([[0.7999, 0.5514],\n",
      "        [1.5809, 1.0959]])\n",
      "tensor([[0.7999, 0.5514],\n",
      "        [1.5809, 1.0959]])\n",
      "tensor([[0.7999, 0.5514],\n",
      "        [1.5809, 1.0959]])\n"
     ]
    }
   ],
   "source": [
    "print(x+y)\n",
    "print(torch.add(x,y))\n",
    "print(y.add(x))"
   ]
  },
  {
   "cell_type": "markdown",
   "metadata": {},
   "source": [
    "연산 후 변수 대체(inplace) 한 번에 하는 법"
   ]
  },
  {
   "cell_type": "code",
   "execution_count": 14,
   "metadata": {},
   "outputs": [
    {
     "data": {
      "text/plain": [
       "tensor([[0.7999, 0.5514],\n",
       "        [1.5809, 1.0959]])"
      ]
     },
     "execution_count": 14,
     "metadata": {},
     "output_type": "execute_result"
    }
   ],
   "source": [
    "# y에 x를 더해서 y에 넣는다 (y += x)\n",
    "y.add_(x)"
   ]
  },
  {
   "cell_type": "code",
   "execution_count": 15,
   "metadata": {},
   "outputs": [
    {
     "data": {
      "text/plain": [
       "tensor([[0.7999, 0.5514],\n",
       "        [1.5809, 1.0959]])"
      ]
     },
     "execution_count": 15,
     "metadata": {},
     "output_type": "execute_result"
    }
   ],
   "source": [
    "y"
   ]
  },
  {
   "cell_type": "markdown",
   "metadata": {},
   "source": [
    "인덱싱 하는 법 (indexing, subarray)"
   ]
  },
  {
   "cell_type": "code",
   "execution_count": 16,
   "metadata": {},
   "outputs": [
    {
     "data": {
      "text/plain": [
       "tensor(1.0959)"
      ]
     },
     "execution_count": 16,
     "metadata": {},
     "output_type": "execute_result"
    }
   ],
   "source": [
    "# 1행 1열 인덱싱\n",
    "y[1,1]"
   ]
  },
  {
   "cell_type": "code",
   "execution_count": 17,
   "metadata": {},
   "outputs": [
    {
     "data": {
      "text/plain": [
       "tensor([0.5514, 1.0959])"
      ]
     },
     "execution_count": 17,
     "metadata": {},
     "output_type": "execute_result"
    }
   ],
   "source": [
    "# 1열 인덱싱\n",
    "y[:,1]"
   ]
  },
  {
   "cell_type": "markdown",
   "metadata": {},
   "source": [
    "#### view 함수\n",
    "- tensor의 사이즈를 자유롭게 바꿔줌\n",
    "- CNN인 경우에 Convolution layer를 연산하다 마지막에 정사각형 이미지를 일렬로 펴줄 때 사용"
   ]
  },
  {
   "cell_type": "code",
   "execution_count": 18,
   "metadata": {},
   "outputs": [
    {
     "name": "stdout",
     "output_type": "stream",
     "text": [
      "tensor([[0.9609, 0.7584, 0.8624, 0.0621, 0.0635, 0.3722, 0.5378, 0.1184],\n",
      "        [0.4923, 0.0734, 0.6578, 0.7427, 0.1559, 0.9920, 0.1309, 0.1635],\n",
      "        [0.5702, 0.8633, 0.4600, 0.4492, 0.7119, 0.7203, 0.5062, 0.0985],\n",
      "        [0.1185, 0.9494, 0.0526, 0.0354, 0.7567, 0.7949, 0.7567, 0.7099],\n",
      "        [0.6943, 0.8203, 0.3028, 0.0806, 0.8755, 0.1984, 0.9588, 0.3842],\n",
      "        [0.6262, 0.1309, 0.5831, 0.6257, 0.1641, 0.8256, 0.4824, 0.8090],\n",
      "        [0.0082, 0.5660, 0.2309, 0.2505, 0.7738, 0.7985, 0.8798, 0.3106],\n",
      "        [0.3669, 0.0245, 0.9864, 0.6415, 0.9527, 0.7203, 0.2599, 0.4918]])\n",
      "\n",
      "tensor([0.9609, 0.7584, 0.8624, 0.0621, 0.0635, 0.3722, 0.5378, 0.1184, 0.4923,\n",
      "        0.0734, 0.6578, 0.7427, 0.1559, 0.9920, 0.1309, 0.1635, 0.5702, 0.8633,\n",
      "        0.4600, 0.4492, 0.7119, 0.7203, 0.5062, 0.0985, 0.1185, 0.9494, 0.0526,\n",
      "        0.0354, 0.7567, 0.7949, 0.7567, 0.7099, 0.6943, 0.8203, 0.3028, 0.0806,\n",
      "        0.8755, 0.1984, 0.9588, 0.3842, 0.6262, 0.1309, 0.5831, 0.6257, 0.1641,\n",
      "        0.8256, 0.4824, 0.8090, 0.0082, 0.5660, 0.2309, 0.2505, 0.7738, 0.7985,\n",
      "        0.8798, 0.3106, 0.3669, 0.0245, 0.9864, 0.6415, 0.9527, 0.7203, 0.2599,\n",
      "        0.4918])\n",
      "\n",
      "tensor([[0.9609, 0.7584, 0.8624, 0.0621, 0.0635, 0.3722, 0.5378, 0.1184, 0.4923,\n",
      "         0.0734, 0.6578, 0.7427, 0.1559, 0.9920, 0.1309, 0.1635],\n",
      "        [0.5702, 0.8633, 0.4600, 0.4492, 0.7119, 0.7203, 0.5062, 0.0985, 0.1185,\n",
      "         0.9494, 0.0526, 0.0354, 0.7567, 0.7949, 0.7567, 0.7099],\n",
      "        [0.6943, 0.8203, 0.3028, 0.0806, 0.8755, 0.1984, 0.9588, 0.3842, 0.6262,\n",
      "         0.1309, 0.5831, 0.6257, 0.1641, 0.8256, 0.4824, 0.8090],\n",
      "        [0.0082, 0.5660, 0.2309, 0.2505, 0.7738, 0.7985, 0.8798, 0.3106, 0.3669,\n",
      "         0.0245, 0.9864, 0.6415, 0.9527, 0.7203, 0.2599, 0.4918]])\n",
      "\n",
      "tensor([[0.9609, 0.7584, 0.8624, 0.0621, 0.0635, 0.3722, 0.5378, 0.1184, 0.4923,\n",
      "         0.0734, 0.6578, 0.7427, 0.1559, 0.9920, 0.1309, 0.1635],\n",
      "        [0.5702, 0.8633, 0.4600, 0.4492, 0.7119, 0.7203, 0.5062, 0.0985, 0.1185,\n",
      "         0.9494, 0.0526, 0.0354, 0.7567, 0.7949, 0.7567, 0.7099],\n",
      "        [0.6943, 0.8203, 0.3028, 0.0806, 0.8755, 0.1984, 0.9588, 0.3842, 0.6262,\n",
      "         0.1309, 0.5831, 0.6257, 0.1641, 0.8256, 0.4824, 0.8090],\n",
      "        [0.0082, 0.5660, 0.2309, 0.2505, 0.7738, 0.7985, 0.8798, 0.3106, 0.3669,\n",
      "         0.0245, 0.9864, 0.6415, 0.9527, 0.7203, 0.2599, 0.4918]])\n",
      "tensor([[[0.9609, 0.7584, 0.8624, 0.0621],\n",
      "         [0.0635, 0.3722, 0.5378, 0.1184],\n",
      "         [0.4923, 0.0734, 0.6578, 0.7427],\n",
      "         [0.1559, 0.9920, 0.1309, 0.1635]],\n",
      "\n",
      "        [[0.5702, 0.8633, 0.4600, 0.4492],\n",
      "         [0.7119, 0.7203, 0.5062, 0.0985],\n",
      "         [0.1185, 0.9494, 0.0526, 0.0354],\n",
      "         [0.7567, 0.7949, 0.7567, 0.7099]],\n",
      "\n",
      "        [[0.6943, 0.8203, 0.3028, 0.0806],\n",
      "         [0.8755, 0.1984, 0.9588, 0.3842],\n",
      "         [0.6262, 0.1309, 0.5831, 0.6257],\n",
      "         [0.1641, 0.8256, 0.4824, 0.8090]],\n",
      "\n",
      "        [[0.0082, 0.5660, 0.2309, 0.2505],\n",
      "         [0.7738, 0.7985, 0.8798, 0.3106],\n",
      "         [0.3669, 0.0245, 0.9864, 0.6415],\n",
      "         [0.9527, 0.7203, 0.2599, 0.4918]]])\n"
     ]
    }
   ],
   "source": [
    "x = torch.rand(8,8)\n",
    "print(x)\n",
    "print()\n",
    "\n",
    "# 텐서를 일렬로 변환\n",
    "# 8X8=64=4X16\n",
    "# 열 기준으로 나열\n",
    "print(x.view(64))\n",
    "print()\n",
    "\n",
    "print(x.view(4,16))\n",
    "print()\n",
    "\n",
    "# 한 숫자는 아는데 곱해지는 다른 숫자 모를 때 -1을 넣음.\n",
    "# -1에 4가 자동으로 들어감\n",
    "print(x.view(-1,16)) # x.view(4,16) 와 같은 결과\n",
    "\n",
    "# 나머지 값이 고정된 상태여야 -1 사용 가능\n",
    "# print(x.view(-1,16,-1))는 미지수가 2개 있기 때문에 불가\n",
    "print(x.view(-1,4,4)) #는 가능"
   ]
  },
  {
   "cell_type": "markdown",
   "metadata": {},
   "source": [
    "tensor에서 numpy array로 변환"
   ]
  },
  {
   "cell_type": "code",
   "execution_count": 19,
   "metadata": {
    "scrolled": false
   },
   "outputs": [
    {
     "name": "stdout",
     "output_type": "stream",
     "text": [
      "[[0.9608807  0.75838095 0.8623952  0.06210738 0.06347865 0.37219214\n",
      "  0.5377801  0.11839724]\n",
      " [0.49230343 0.0733909  0.6577639  0.7426685  0.1558876  0.9920472\n",
      "  0.13090938 0.16346544]\n",
      " [0.57016426 0.8632922  0.45997983 0.4491688  0.7118903  0.72026604\n",
      "  0.5062248  0.09845442]\n",
      " [0.11849904 0.9494247  0.05261171 0.03537315 0.75669414 0.79493624\n",
      "  0.7566905  0.7099154 ]\n",
      " [0.69432265 0.8203324  0.30281723 0.08055097 0.8755239  0.19844323\n",
      "  0.95882565 0.3842287 ]\n",
      " [0.626184   0.13092607 0.5831461  0.62569135 0.16408205 0.8256468\n",
      "  0.48239493 0.80897814]\n",
      " [0.00817329 0.5660144  0.23092961 0.25053442 0.7737721  0.7984659\n",
      "  0.87981063 0.31055498]\n",
      " [0.36689413 0.02451593 0.98636687 0.6415478  0.9527004  0.7203196\n",
      "  0.2599097  0.49177027]]\n"
     ]
    }
   ],
   "source": [
    "y = x.numpy()\n",
    "print(y)"
   ]
  },
  {
   "cell_type": "code",
   "execution_count": 20,
   "metadata": {},
   "outputs": [
    {
     "data": {
      "text/plain": [
       "numpy.ndarray"
      ]
     },
     "execution_count": 20,
     "metadata": {},
     "output_type": "execute_result"
    }
   ],
   "source": [
    "type(y)"
   ]
  },
  {
   "cell_type": "markdown",
   "metadata": {},
   "source": [
    "#### item 함수\n",
    "- tensor가 scalar일 때(원소가 1개일 때)만 사용 가능 \n",
    "- tensor 안에 값을 숫자 형태로 불러오고 싶을 때\n",
    "- loss 값을 뽑아내고 싶을 때나 값을 사용할 때 (ex. plotting할 때)\n"
   ]
  },
  {
   "cell_type": "code",
   "execution_count": 21,
   "metadata": {},
   "outputs": [
    {
     "data": {
      "text/plain": [
       "tensor([1.])"
      ]
     },
     "execution_count": 21,
     "metadata": {},
     "output_type": "execute_result"
    }
   ],
   "source": [
    "x = torch.ones(1)\n",
    "x"
   ]
  },
  {
   "cell_type": "code",
   "execution_count": 22,
   "metadata": {},
   "outputs": [
    {
     "data": {
      "text/plain": [
       "1.0"
      ]
     },
     "execution_count": 22,
     "metadata": {},
     "output_type": "execute_result"
    }
   ],
   "source": [
    "x.item()"
   ]
  },
  {
   "cell_type": "markdown",
   "metadata": {},
   "source": [
    "파이토치 관련 추천 강의\n",
    "1. 텐서 개념 : https://www.youtube.com/watch?v=6SF_qAd99Yg&list=PLHOsBEAyYj3xf4i20sCA5o8MgVW5sIiHD&index=9\n",
    "2. 역전파 : https://www.youtube.com/watch?v=_4gEHlsvSZ8&list=PLHOsBEAyYj3xf4i20sCA5o8MgVW5sIiHD&index=10\n",
    "3. 데이터 불러오기 + 커스터마이징 : https://www.youtube.com/watch?v=8PnxJ3s3Cwo&list=PLHOsBEAyYj3xf4i20sCA5o8MgVW5sIiHD&index=11\n",
    "4. 기본모델 구축 및 저장 : https://www.youtube.com/watch?v=Gm9Spk2Nmj0&list=PLHOsBEAyYj3xf4i20sCA5o8MgVW5sIiHD&index=12\n",
    "5. 스케줄링 : https://www.youtube.com/watch?v=eYjcN_zwUP4&list=PLHOsBEAyYj3xf4i20sCA5o8MgVW5sIiHD&index=13\n",
    "6. 비지도 학습 구현 : https://www.youtube.com/watch?v=8WCTCBHBnP0&list=PLHOsBEAyYj3xf4i20sCA5o8MgVW5sIiHD&index=14"
   ]
  }
 ],
 "metadata": {
  "kernelspec": {
   "display_name": "Python 3",
   "language": "python",
   "name": "python3"
  },
  "language_info": {
   "codemirror_mode": {
    "name": "ipython",
    "version": 3
   },
   "file_extension": ".py",
   "mimetype": "text/x-python",
   "name": "python",
   "nbconvert_exporter": "python",
   "pygments_lexer": "ipython3",
   "version": "3.8.5"
  }
 },
 "nbformat": 4,
 "nbformat_minor": 4
}
